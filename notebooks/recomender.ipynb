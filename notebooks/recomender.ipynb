{
 "cells": [
  {
   "cell_type": "code",
   "execution_count": 1,
   "id": "26b55bf8-d3b4-4010-a6ac-b9a980dff95f",
   "metadata": {},
   "outputs": [],
   "source": [
    "# Importación de librerías necesarias\n",
    "import pandas as pd\n",
    "from sklearn.metrics.pairwise import cosine_similarity\n",
    "import numpy as np"
   ]
  },
  {
   "cell_type": "code",
   "execution_count": 2,
   "id": "a594e9ca-f0ef-4baf-bf96-6640b522cbe1",
   "metadata": {},
   "outputs": [],
   "source": [
    "# Datos de los productos basados en las categorías\n",
    "def load_data():\n",
    "    data = {\n",
    "        'Product': ['Tejido Orgánico', 'Tejido Reciclado', 'Lino', 'Algodón', 'Rayas Marineras', \n",
    "                    'Cuadros Escoceses', 'Tie-Dye', 'Tejido Jacquard Floral', 'Tejido Técnico Reflectante'],\n",
    "        'Category': ['Sostenible', 'Sostenible', 'Básicos y Naturales', 'Básicos y Naturales', \n",
    "                     'Rayas y Cuadros', 'Rayas y Cuadros', 'Lavados y Engrasados', 'Jacquard', 'Técnicos'],\n",
    "        'Price': [25.99, 23.99, 19.99, 15.99, 18.99, 21.99, 16.99, 30.99, 35.99]\n",
    "    }\n",
    "    products = pd.DataFrame(data)\n",
    "    \n",
    "    # Guardar los datos en un archivo CSV\n",
    "    products.to_csv('products_data.csv', index=False)\n",
    "    print(\"Products data has been saved to 'products_data.csv'\")\n",
    "    \n",
    "    return products"
   ]
  },
  {
   "cell_type": "code",
   "execution_count": 3,
   "id": "04ec9729-226f-433c-b8cc-f02ff8c223c4",
   "metadata": {},
   "outputs": [
    {
     "name": "stdout",
     "output_type": "stream",
     "text": [
      "Products data has been saved to 'products_data.csv'\n"
     ]
    }
   ],
   "source": [
    "# Leer los datos\n",
    "products = load_data()"
   ]
  },
  {
   "cell_type": "code",
   "execution_count": 4,
   "id": "44f0ee98-6a86-4076-bd13-cb0062dec4ab",
   "metadata": {},
   "outputs": [
    {
     "name": "stdout",
     "output_type": "stream",
     "text": [
      "            Product             Category  Price\n",
      "0   Tejido Orgánico           Sostenible  25.99\n",
      "1  Tejido Reciclado           Sostenible  23.99\n",
      "2              Lino  Básicos y Naturales  19.99\n",
      "3           Algodón  Básicos y Naturales  15.99\n",
      "4   Rayas Marineras      Rayas y Cuadros  18.99\n"
     ]
    }
   ],
   "source": [
    "# Mostrar los primeros registros del dataframe\n",
    "print(products.head())"
   ]
  },
  {
   "cell_type": "code",
   "execution_count": 8,
   "id": "c244216c-7936-4ca0-8ea0-ce2eb62887fc",
   "metadata": {},
   "outputs": [
    {
     "data": {
      "text/html": [
       "<div>\n",
       "<style scoped>\n",
       "    .dataframe tbody tr th:only-of-type {\n",
       "        vertical-align: middle;\n",
       "    }\n",
       "\n",
       "    .dataframe tbody tr th {\n",
       "        vertical-align: top;\n",
       "    }\n",
       "\n",
       "    .dataframe thead th {\n",
       "        text-align: right;\n",
       "    }\n",
       "</style>\n",
       "<table border=\"1\" class=\"dataframe\">\n",
       "  <thead>\n",
       "    <tr style=\"text-align: right;\">\n",
       "      <th></th>\n",
       "      <th>Product</th>\n",
       "      <th>Category</th>\n",
       "      <th>Price</th>\n",
       "    </tr>\n",
       "  </thead>\n",
       "  <tbody>\n",
       "    <tr>\n",
       "      <th>0</th>\n",
       "      <td>Tejido Orgánico</td>\n",
       "      <td>Sostenible</td>\n",
       "      <td>25.99</td>\n",
       "    </tr>\n",
       "    <tr>\n",
       "      <th>1</th>\n",
       "      <td>Tejido Reciclado</td>\n",
       "      <td>Sostenible</td>\n",
       "      <td>23.99</td>\n",
       "    </tr>\n",
       "    <tr>\n",
       "      <th>2</th>\n",
       "      <td>Lino</td>\n",
       "      <td>Básicos y Naturales</td>\n",
       "      <td>19.99</td>\n",
       "    </tr>\n",
       "    <tr>\n",
       "      <th>3</th>\n",
       "      <td>Algodón</td>\n",
       "      <td>Básicos y Naturales</td>\n",
       "      <td>15.99</td>\n",
       "    </tr>\n",
       "    <tr>\n",
       "      <th>4</th>\n",
       "      <td>Rayas Marineras</td>\n",
       "      <td>Rayas y Cuadros</td>\n",
       "      <td>18.99</td>\n",
       "    </tr>\n",
       "    <tr>\n",
       "      <th>5</th>\n",
       "      <td>Cuadros Escoceses</td>\n",
       "      <td>Rayas y Cuadros</td>\n",
       "      <td>21.99</td>\n",
       "    </tr>\n",
       "    <tr>\n",
       "      <th>6</th>\n",
       "      <td>Tie-Dye</td>\n",
       "      <td>Lavados y Engrasados</td>\n",
       "      <td>16.99</td>\n",
       "    </tr>\n",
       "    <tr>\n",
       "      <th>7</th>\n",
       "      <td>Tejido Jacquard Floral</td>\n",
       "      <td>Jacquard</td>\n",
       "      <td>30.99</td>\n",
       "    </tr>\n",
       "    <tr>\n",
       "      <th>8</th>\n",
       "      <td>Tejido Técnico Reflectante</td>\n",
       "      <td>Técnicos</td>\n",
       "      <td>35.99</td>\n",
       "    </tr>\n",
       "  </tbody>\n",
       "</table>\n",
       "</div>"
      ],
      "text/plain": [
       "                      Product              Category  Price\n",
       "0             Tejido Orgánico            Sostenible  25.99\n",
       "1            Tejido Reciclado            Sostenible  23.99\n",
       "2                        Lino   Básicos y Naturales  19.99\n",
       "3                     Algodón   Básicos y Naturales  15.99\n",
       "4             Rayas Marineras       Rayas y Cuadros  18.99\n",
       "5           Cuadros Escoceses       Rayas y Cuadros  21.99\n",
       "6                     Tie-Dye  Lavados y Engrasados  16.99\n",
       "7      Tejido Jacquard Floral              Jacquard  30.99\n",
       "8  Tejido Técnico Reflectante              Técnicos  35.99"
      ]
     },
     "execution_count": 8,
     "metadata": {},
     "output_type": "execute_result"
    }
   ],
   "source": [
    "products"
   ]
  },
  {
   "cell_type": "code",
   "execution_count": 7,
   "id": "280843a4-32c5-4be6-a9aa-308b986fd78f",
   "metadata": {},
   "outputs": [
    {
     "data": {
      "text/html": [
       "<div>\n",
       "<style scoped>\n",
       "    .dataframe tbody tr th:only-of-type {\n",
       "        vertical-align: middle;\n",
       "    }\n",
       "\n",
       "    .dataframe tbody tr th {\n",
       "        vertical-align: top;\n",
       "    }\n",
       "\n",
       "    .dataframe thead th {\n",
       "        text-align: right;\n",
       "    }\n",
       "</style>\n",
       "<table border=\"1\" class=\"dataframe\">\n",
       "  <thead>\n",
       "    <tr style=\"text-align: right;\">\n",
       "      <th></th>\n",
       "      <th>Product</th>\n",
       "      <th>Price</th>\n",
       "      <th>Category_Básicos y Naturales</th>\n",
       "      <th>Category_Jacquard</th>\n",
       "      <th>Category_Lavados y Engrasados</th>\n",
       "      <th>Category_Rayas y Cuadros</th>\n",
       "      <th>Category_Sostenible</th>\n",
       "      <th>Category_Técnicos</th>\n",
       "    </tr>\n",
       "  </thead>\n",
       "  <tbody>\n",
       "    <tr>\n",
       "      <th>0</th>\n",
       "      <td>Tejido Orgánico</td>\n",
       "      <td>25.99</td>\n",
       "      <td>False</td>\n",
       "      <td>False</td>\n",
       "      <td>False</td>\n",
       "      <td>False</td>\n",
       "      <td>True</td>\n",
       "      <td>False</td>\n",
       "    </tr>\n",
       "    <tr>\n",
       "      <th>1</th>\n",
       "      <td>Tejido Reciclado</td>\n",
       "      <td>23.99</td>\n",
       "      <td>False</td>\n",
       "      <td>False</td>\n",
       "      <td>False</td>\n",
       "      <td>False</td>\n",
       "      <td>True</td>\n",
       "      <td>False</td>\n",
       "    </tr>\n",
       "    <tr>\n",
       "      <th>2</th>\n",
       "      <td>Lino</td>\n",
       "      <td>19.99</td>\n",
       "      <td>True</td>\n",
       "      <td>False</td>\n",
       "      <td>False</td>\n",
       "      <td>False</td>\n",
       "      <td>False</td>\n",
       "      <td>False</td>\n",
       "    </tr>\n",
       "    <tr>\n",
       "      <th>3</th>\n",
       "      <td>Algodón</td>\n",
       "      <td>15.99</td>\n",
       "      <td>True</td>\n",
       "      <td>False</td>\n",
       "      <td>False</td>\n",
       "      <td>False</td>\n",
       "      <td>False</td>\n",
       "      <td>False</td>\n",
       "    </tr>\n",
       "    <tr>\n",
       "      <th>4</th>\n",
       "      <td>Rayas Marineras</td>\n",
       "      <td>18.99</td>\n",
       "      <td>False</td>\n",
       "      <td>False</td>\n",
       "      <td>False</td>\n",
       "      <td>True</td>\n",
       "      <td>False</td>\n",
       "      <td>False</td>\n",
       "    </tr>\n",
       "    <tr>\n",
       "      <th>5</th>\n",
       "      <td>Cuadros Escoceses</td>\n",
       "      <td>21.99</td>\n",
       "      <td>False</td>\n",
       "      <td>False</td>\n",
       "      <td>False</td>\n",
       "      <td>True</td>\n",
       "      <td>False</td>\n",
       "      <td>False</td>\n",
       "    </tr>\n",
       "    <tr>\n",
       "      <th>6</th>\n",
       "      <td>Tie-Dye</td>\n",
       "      <td>16.99</td>\n",
       "      <td>False</td>\n",
       "      <td>False</td>\n",
       "      <td>True</td>\n",
       "      <td>False</td>\n",
       "      <td>False</td>\n",
       "      <td>False</td>\n",
       "    </tr>\n",
       "    <tr>\n",
       "      <th>7</th>\n",
       "      <td>Tejido Jacquard Floral</td>\n",
       "      <td>30.99</td>\n",
       "      <td>False</td>\n",
       "      <td>True</td>\n",
       "      <td>False</td>\n",
       "      <td>False</td>\n",
       "      <td>False</td>\n",
       "      <td>False</td>\n",
       "    </tr>\n",
       "    <tr>\n",
       "      <th>8</th>\n",
       "      <td>Tejido Técnico Reflectante</td>\n",
       "      <td>35.99</td>\n",
       "      <td>False</td>\n",
       "      <td>False</td>\n",
       "      <td>False</td>\n",
       "      <td>False</td>\n",
       "      <td>False</td>\n",
       "      <td>True</td>\n",
       "    </tr>\n",
       "  </tbody>\n",
       "</table>\n",
       "</div>"
      ],
      "text/plain": [
       "                      Product  Price  Category_Básicos y Naturales  \\\n",
       "0             Tejido Orgánico  25.99                         False   \n",
       "1            Tejido Reciclado  23.99                         False   \n",
       "2                        Lino  19.99                          True   \n",
       "3                     Algodón  15.99                          True   \n",
       "4             Rayas Marineras  18.99                         False   \n",
       "5           Cuadros Escoceses  21.99                         False   \n",
       "6                     Tie-Dye  16.99                         False   \n",
       "7      Tejido Jacquard Floral  30.99                         False   \n",
       "8  Tejido Técnico Reflectante  35.99                         False   \n",
       "\n",
       "   Category_Jacquard  Category_Lavados y Engrasados  Category_Rayas y Cuadros  \\\n",
       "0              False                          False                     False   \n",
       "1              False                          False                     False   \n",
       "2              False                          False                     False   \n",
       "3              False                          False                     False   \n",
       "4              False                          False                      True   \n",
       "5              False                          False                      True   \n",
       "6              False                           True                     False   \n",
       "7               True                          False                     False   \n",
       "8              False                          False                     False   \n",
       "\n",
       "   Category_Sostenible  Category_Técnicos  \n",
       "0                 True              False  \n",
       "1                 True              False  \n",
       "2                False              False  \n",
       "3                False              False  \n",
       "4                False              False  \n",
       "5                False              False  \n",
       "6                False              False  \n",
       "7                False              False  \n",
       "8                False               True  "
      ]
     },
     "execution_count": 7,
     "metadata": {},
     "output_type": "execute_result"
    }
   ],
   "source": [
    "# Convertir las categorías en variables dummy (una columna por cada categoría)\n",
    "products_encoded = pd.get_dummies(products, columns=['Category'])\n",
    "products_encoded"
   ]
  },
  {
   "cell_type": "code",
   "execution_count": 9,
   "id": "0bd6cf5d-3679-4466-b8be-c258008506e5",
   "metadata": {},
   "outputs": [
    {
     "data": {
      "text/html": [
       "<div>\n",
       "<style scoped>\n",
       "    .dataframe tbody tr th:only-of-type {\n",
       "        vertical-align: middle;\n",
       "    }\n",
       "\n",
       "    .dataframe tbody tr th {\n",
       "        vertical-align: top;\n",
       "    }\n",
       "\n",
       "    .dataframe thead th {\n",
       "        text-align: right;\n",
       "    }\n",
       "</style>\n",
       "<table border=\"1\" class=\"dataframe\">\n",
       "  <thead>\n",
       "    <tr style=\"text-align: right;\">\n",
       "      <th></th>\n",
       "      <th>Price</th>\n",
       "      <th>Category_Básicos y Naturales</th>\n",
       "      <th>Category_Jacquard</th>\n",
       "      <th>Category_Lavados y Engrasados</th>\n",
       "      <th>Category_Rayas y Cuadros</th>\n",
       "      <th>Category_Sostenible</th>\n",
       "      <th>Category_Técnicos</th>\n",
       "    </tr>\n",
       "  </thead>\n",
       "  <tbody>\n",
       "    <tr>\n",
       "      <th>0</th>\n",
       "      <td>25.99</td>\n",
       "      <td>False</td>\n",
       "      <td>False</td>\n",
       "      <td>False</td>\n",
       "      <td>False</td>\n",
       "      <td>True</td>\n",
       "      <td>False</td>\n",
       "    </tr>\n",
       "    <tr>\n",
       "      <th>1</th>\n",
       "      <td>23.99</td>\n",
       "      <td>False</td>\n",
       "      <td>False</td>\n",
       "      <td>False</td>\n",
       "      <td>False</td>\n",
       "      <td>True</td>\n",
       "      <td>False</td>\n",
       "    </tr>\n",
       "    <tr>\n",
       "      <th>2</th>\n",
       "      <td>19.99</td>\n",
       "      <td>True</td>\n",
       "      <td>False</td>\n",
       "      <td>False</td>\n",
       "      <td>False</td>\n",
       "      <td>False</td>\n",
       "      <td>False</td>\n",
       "    </tr>\n",
       "    <tr>\n",
       "      <th>3</th>\n",
       "      <td>15.99</td>\n",
       "      <td>True</td>\n",
       "      <td>False</td>\n",
       "      <td>False</td>\n",
       "      <td>False</td>\n",
       "      <td>False</td>\n",
       "      <td>False</td>\n",
       "    </tr>\n",
       "    <tr>\n",
       "      <th>4</th>\n",
       "      <td>18.99</td>\n",
       "      <td>False</td>\n",
       "      <td>False</td>\n",
       "      <td>False</td>\n",
       "      <td>True</td>\n",
       "      <td>False</td>\n",
       "      <td>False</td>\n",
       "    </tr>\n",
       "    <tr>\n",
       "      <th>5</th>\n",
       "      <td>21.99</td>\n",
       "      <td>False</td>\n",
       "      <td>False</td>\n",
       "      <td>False</td>\n",
       "      <td>True</td>\n",
       "      <td>False</td>\n",
       "      <td>False</td>\n",
       "    </tr>\n",
       "    <tr>\n",
       "      <th>6</th>\n",
       "      <td>16.99</td>\n",
       "      <td>False</td>\n",
       "      <td>False</td>\n",
       "      <td>True</td>\n",
       "      <td>False</td>\n",
       "      <td>False</td>\n",
       "      <td>False</td>\n",
       "    </tr>\n",
       "    <tr>\n",
       "      <th>7</th>\n",
       "      <td>30.99</td>\n",
       "      <td>False</td>\n",
       "      <td>True</td>\n",
       "      <td>False</td>\n",
       "      <td>False</td>\n",
       "      <td>False</td>\n",
       "      <td>False</td>\n",
       "    </tr>\n",
       "    <tr>\n",
       "      <th>8</th>\n",
       "      <td>35.99</td>\n",
       "      <td>False</td>\n",
       "      <td>False</td>\n",
       "      <td>False</td>\n",
       "      <td>False</td>\n",
       "      <td>False</td>\n",
       "      <td>True</td>\n",
       "    </tr>\n",
       "  </tbody>\n",
       "</table>\n",
       "</div>"
      ],
      "text/plain": [
       "   Price  Category_Básicos y Naturales  Category_Jacquard  \\\n",
       "0  25.99                         False              False   \n",
       "1  23.99                         False              False   \n",
       "2  19.99                          True              False   \n",
       "3  15.99                          True              False   \n",
       "4  18.99                         False              False   \n",
       "5  21.99                         False              False   \n",
       "6  16.99                         False              False   \n",
       "7  30.99                         False               True   \n",
       "8  35.99                         False              False   \n",
       "\n",
       "   Category_Lavados y Engrasados  Category_Rayas y Cuadros  \\\n",
       "0                          False                     False   \n",
       "1                          False                     False   \n",
       "2                          False                     False   \n",
       "3                          False                     False   \n",
       "4                          False                      True   \n",
       "5                          False                      True   \n",
       "6                           True                     False   \n",
       "7                          False                     False   \n",
       "8                          False                     False   \n",
       "\n",
       "   Category_Sostenible  Category_Técnicos  \n",
       "0                 True              False  \n",
       "1                 True              False  \n",
       "2                False              False  \n",
       "3                False              False  \n",
       "4                False              False  \n",
       "5                False              False  \n",
       "6                False              False  \n",
       "7                False              False  \n",
       "8                False               True  "
      ]
     },
     "execution_count": 9,
     "metadata": {},
     "output_type": "execute_result"
    }
   ],
   "source": [
    "# Extraer solo las columnas numéricas (sin el nombre del producto)\n",
    "products_numeric = products_encoded.drop('Product', axis=1)\n",
    "products_numeric"
   ]
  },
  {
   "cell_type": "code",
   "execution_count": 26,
   "id": "26345c01-6a65-4b1f-a19f-9ee2129e166a",
   "metadata": {},
   "outputs": [
    {
     "data": {
      "text/plain": [
       "0               Tejido Orgánico\n",
       "1              Tejido Reciclado\n",
       "2                          Lino\n",
       "3                       Algodón\n",
       "4               Rayas Marineras\n",
       "5             Cuadros Escoceses\n",
       "6                       Tie-Dye\n",
       "7        Tejido Jacquard Floral\n",
       "8    Tejido Técnico Reflectante\n",
       "Name: Product, dtype: object"
      ]
     },
     "execution_count": 26,
     "metadata": {},
     "output_type": "execute_result"
    }
   ],
   "source": [
    "products['Product']"
   ]
  },
  {
   "cell_type": "code",
   "execution_count": 27,
   "id": "e09657c6-483b-4da6-bfc7-f69a036b220f",
   "metadata": {},
   "outputs": [
    {
     "data": {
      "text/plain": [
       "'Algodón'"
      ]
     },
     "execution_count": 27,
     "metadata": {},
     "output_type": "execute_result"
    }
   ],
   "source": [
    "#MANUALMENTE:\n",
    "product_name = products['Product'][3]\n",
    "product_name"
   ]
  },
  {
   "cell_type": "code",
   "execution_count": 28,
   "id": "a20266fe-3002-4e37-97fc-469c6060b70f",
   "metadata": {},
   "outputs": [
    {
     "data": {
      "text/plain": [
       "3"
      ]
     },
     "execution_count": 28,
     "metadata": {},
     "output_type": "execute_result"
    }
   ],
   "source": [
    "# Obtener el índice del producto seleccionado\n",
    "product_idx = products[products['Product'] == product_name].index[0]\n",
    "product_idx"
   ]
  },
  {
   "cell_type": "code",
   "execution_count": 29,
   "id": "0af11c90-56ce-477e-a8db-696848924b0b",
   "metadata": {},
   "outputs": [
    {
     "data": {
      "text/plain": [
       "array([[1.        , 0.99999487, 0.99801262, 0.9973122 , 0.99787801,\n",
       "        0.99822897, 0.99753423, 0.99874077, 0.9988751 ],\n",
       "       [0.99999487, 1.        , 0.99788453, 0.99718419, 0.99774993,\n",
       "        0.99810085, 0.9974062 , 0.99861258, 0.99874689],\n",
       "       [0.99801262, 0.99788453, 1.        , 0.9999222 , 0.9973692 ,\n",
       "        0.99771999, 0.9970256 , 0.99823152, 0.99836578],\n",
       "       [0.9973122 , 0.99718419, 0.9999222 , 1.        , 0.99666922,\n",
       "        0.99701977, 0.99632586, 0.99753094, 0.99766511],\n",
       "       [0.99787801, 0.99774993, 0.9973692 , 0.99666922, 1.        ,\n",
       "        0.99997432, 0.99689111, 0.99809688, 0.99823112],\n",
       "       [0.99822897, 0.99810085, 0.99771999, 0.99701977, 0.99997432,\n",
       "        1.        , 0.99724173, 0.99844792, 0.99858221],\n",
       "       [0.99753423, 0.9974062 , 0.9970256 , 0.99632586, 0.99689111,\n",
       "        0.99724173, 1.        , 0.99775302, 0.99788722],\n",
       "       [0.99874077, 0.99861258, 0.99823152, 0.99753094, 0.99809688,\n",
       "        0.99844792, 0.99775302, 1.        , 0.99909419],\n",
       "       [0.9988751 , 0.99874689, 0.99836578, 0.99766511, 0.99823112,\n",
       "        0.99858221, 0.99788722, 0.99909419, 1.        ]])"
      ]
     },
     "execution_count": 29,
     "metadata": {},
     "output_type": "execute_result"
    }
   ],
   "source": [
    "# Calcular la similitud usando cosine similarity\n",
    "similarity_matrix = cosine_similarity(products_numeric)\n",
    "similarity_matrix"
   ]
  },
  {
   "cell_type": "code",
   "execution_count": 30,
   "id": "14b6a6e0-ca7a-452d-8b10-fe12e11a1827",
   "metadata": {},
   "outputs": [
    {
     "data": {
      "text/plain": [
       "array([0.9973122 , 0.99718419, 0.9999222 , 1.        , 0.99666922,\n",
       "       0.99701977, 0.99632586, 0.99753094, 0.99766511])"
      ]
     },
     "execution_count": 30,
     "metadata": {},
     "output_type": "execute_result"
    }
   ],
   "source": [
    "# Obtener las recomendaciones (similitudes más altas)\n",
    "recommendations = similarity_matrix[product_idx]\n",
    "recommendations"
   ]
  },
  {
   "cell_type": "code",
   "execution_count": 31,
   "id": "09ce333d-7970-41b8-a7c7-81a5b402dd49",
   "metadata": {},
   "outputs": [
    {
     "data": {
      "text/plain": [
       "array([2, 8, 7])"
      ]
     },
     "execution_count": 31,
     "metadata": {},
     "output_type": "execute_result"
    }
   ],
   "source": [
    "# Ordenar las recomendaciones por similitud (de mayor a menor)\n",
    "recommended_indices = recommendations.argsort()[-4:-1][::-1]  # Top 3 recomendaciones\n",
    "recommended_indices"
   ]
  },
  {
   "cell_type": "code",
   "execution_count": 32,
   "id": "58b623ec-01a8-449e-8cef-d1ea43fa33e6",
   "metadata": {},
   "outputs": [
    {
     "data": {
      "text/plain": [
       "2                          Lino\n",
       "8    Tejido Técnico Reflectante\n",
       "7        Tejido Jacquard Floral\n",
       "Name: Product, dtype: object"
      ]
     },
     "execution_count": 32,
     "metadata": {},
     "output_type": "execute_result"
    }
   ],
   "source": [
    "# Obtener los productos recomendados\n",
    "recommended_products = products['Product'].iloc[recommended_indices]\n",
    "recommended_products"
   ]
  },
  {
   "cell_type": "code",
   "execution_count": 23,
   "id": "21e52323-0b87-4dc9-8388-053500079c2b",
   "metadata": {},
   "outputs": [],
   "source": [
    "# Función para generar recomendaciones basadas en similitudes\n",
    "def recommend_product(product_name, products):\n",
    "    # Convertir las categorías en variables dummy (una columna por cada categoría)\n",
    "    products_encoded = pd.get_dummies(products, columns=['Category'])\n",
    "    \n",
    "    # Extraer solo las columnas numéricas (sin el nombre del producto)\n",
    "    products_numeric = products_encoded.drop('Product', axis=1)\n",
    "    \n",
    "    # Obtener el índice del producto seleccionado\n",
    "    product_idx = products[products['Product'] == product_name].index[0]\n",
    "    \n",
    "    # Calcular la similitud usando cosine similarity\n",
    "    similarity_matrix = cosine_similarity(products_numeric)\n",
    "    \n",
    "    # Obtener las recomendaciones (similitudes más altas)\n",
    "    recommendations = similarity_matrix[product_idx]\n",
    "    \n",
    "    # Ordenar las recomendaciones por similitud (de mayor a menor)\n",
    "    recommended_indices = recommendations.argsort()[-4:-1][::-1]  # Top 3 recomendaciones\n",
    "    \n",
    "    # Obtener los productos recomendados\n",
    "    recommended_products = products['Product'].iloc[recommended_indices]\n",
    "    \n",
    "    return recommended_products"
   ]
  },
  {
   "cell_type": "code",
   "execution_count": 24,
   "id": "4c513d2d-6961-45a9-a7fa-816f9de4c7b0",
   "metadata": {},
   "outputs": [],
   "source": [
    "# Selección de un producto para la recomendación\n",
    "selected_product = 'Algodón'"
   ]
  },
  {
   "cell_type": "code",
   "execution_count": 25,
   "id": "78299cfa-5f1d-473f-bbd7-fa78d05b840b",
   "metadata": {},
   "outputs": [
    {
     "name": "stdout",
     "output_type": "stream",
     "text": [
      "Selected Product: Algodón\n",
      "Recommended products:\n",
      "2                          Lino\n",
      "8    Tejido Técnico Reflectante\n",
      "7        Tejido Jacquard Floral\n",
      "Name: Product, dtype: object\n"
     ]
    }
   ],
   "source": [
    "# Mostrar las recomendaciones para el producto seleccionado\n",
    "recommended_products = recommend_product(selected_product, products)\n",
    "print(f\"Selected Product: {selected_product}\")\n",
    "print(\"Recommended products:\")\n",
    "print(recommended_products)"
   ]
  },
  {
   "cell_type": "code",
   "execution_count": null,
   "id": "93cf6759-00d7-46ef-aa56-e18e0c92a460",
   "metadata": {},
   "outputs": [],
   "source": []
  }
 ],
 "metadata": {
  "kernelspec": {
   "display_name": "Python (m3_env)",
   "language": "python",
   "name": "m3_env"
  },
  "language_info": {
   "codemirror_mode": {
    "name": "ipython",
    "version": 3
   },
   "file_extension": ".py",
   "mimetype": "text/x-python",
   "name": "python",
   "nbconvert_exporter": "python",
   "pygments_lexer": "ipython3",
   "version": "3.10.0"
  }
 },
 "nbformat": 4,
 "nbformat_minor": 5
}
